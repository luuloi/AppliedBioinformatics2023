{
  "nbformat": 4,
  "nbformat_minor": 0,
  "metadata": {
    "colab": {
      "provenance": [],
      "authorship_tag": "ABX9TyOMmw8iIwQjzafAz2GGwmzO",
      "include_colab_link": true
    },
    "kernelspec": {
      "name": "ir",
      "display_name": "R"
    },
    "language_info": {
      "name": "R"
    }
  },
  "cells": [
    {
      "cell_type": "markdown",
      "metadata": {
        "id": "view-in-github",
        "colab_type": "text"
      },
      "source": [
        "<a href=\"https://colab.research.google.com/github/luuloi/GWAS_Introduction_2023/blob/main/01_Basic_R_practice.ipynb\" target=\"_parent\"><img src=\"https://colab.research.google.com/assets/colab-badge.svg\" alt=\"Open In Colab\"/></a>"
      ]
    },
    {
      "cell_type": "markdown",
      "source": [
        "# Data assignment and data type checking"
      ],
      "metadata": {
        "id": "ZycaPL9LP4MH"
      }
    },
    {
      "cell_type": "markdown",
      "source": [
        "1. Check the data type of these variables below"
      ],
      "metadata": {
        "id": "WDDjJ4ZoQB3P"
      }
    },
    {
      "cell_type": "code",
      "execution_count": null,
      "metadata": {
        "id": "4l78R7btOsfl"
      },
      "outputs": [],
      "source": [
        "x <- 10\n"
      ]
    },
    {
      "cell_type": "code",
      "source": [
        "y <- 10.5\n"
      ],
      "metadata": {
        "id": "0gF_iO1GQAFS"
      },
      "execution_count": null,
      "outputs": []
    },
    {
      "cell_type": "code",
      "source": [
        "z <- \"Bioinformatics\"\n"
      ],
      "metadata": {
        "id": "Fo2LSFPMQMk6"
      },
      "execution_count": null,
      "outputs": []
    },
    {
      "cell_type": "code",
      "source": [
        "a <- TRUE\n"
      ],
      "metadata": {
        "id": "JIStDQ7XQOG6"
      },
      "execution_count": null,
      "outputs": []
    },
    {
      "cell_type": "markdown",
      "source": [
        "2. Create a vector of 1 to 10\n"
      ],
      "metadata": {
        "id": "aOTEnnJjZSK8"
      }
    },
    {
      "cell_type": "code",
      "source": [
        "x <- c()\n"
      ],
      "metadata": {
        "id": "hHq3GJbNQWP6"
      },
      "execution_count": null,
      "outputs": []
    },
    {
      "cell_type": "markdown",
      "source": [
        "3. Print out the vector and its data type"
      ],
      "metadata": {
        "id": "vvU0z3QWZVV3"
      }
    },
    {
      "cell_type": "code",
      "source": [
        "print()\n",
        "\n",
        "print(class())"
      ],
      "metadata": {
        "id": "hVXNpVU7Qi1j"
      },
      "execution_count": null,
      "outputs": []
    },
    {
      "cell_type": "markdown",
      "source": [
        "4. Multiply the vector by 2 and assign it to a new variable"
      ],
      "metadata": {
        "id": "vAkhGtttZaCM"
      }
    },
    {
      "cell_type": "code",
      "source": [
        "y <- x *\n"
      ],
      "metadata": {
        "id": "pKbYMOqFQoDZ"
      },
      "execution_count": null,
      "outputs": []
    },
    {
      "cell_type": "markdown",
      "source": [
        "5. Divide the third element of the vector `y` by 3 and assign it to a new variable"
      ],
      "metadata": {
        "id": "b-fGm0IRRaH_"
      }
    },
    {
      "cell_type": "code",
      "source": [
        "z <- y[] /\n",
        ""
      ],
      "metadata": {
        "id": "3VfxmdTSZf4C"
      },
      "execution_count": null,
      "outputs": []
    },
    {
      "cell_type": "markdown",
      "source": [
        "6. Create a `4 * 5` matrix"
      ],
      "metadata": {
        "id": "6ZDiGErcZ9-V"
      }
    },
    {
      "cell_type": "code",
      "source": [
        "set.seed(123) # Setting a seed for reproducibility\n",
        "mat <- matrix(runif(20, min=1, max=100), nrow= , ncol=)\n",
        "print(mat)"
      ],
      "metadata": {
        "id": "sQkm-x0TaVFd"
      },
      "execution_count": null,
      "outputs": []
    },
    {
      "cell_type": "markdown",
      "source": [
        "# Descriptive statistics"
      ],
      "metadata": {
        "id": "6KqkgD1PSHcg"
      }
    },
    {
      "cell_type": "markdown",
      "source": [
        "1. Get the mean and median of z"
      ],
      "metadata": {
        "id": "kCbkRtIMZikQ"
      }
    },
    {
      "cell_type": "code",
      "source": [
        "mean()\n",
        "\n",
        "max()"
      ],
      "metadata": {
        "id": "0KKlJkFbY6Bl"
      },
      "execution_count": null,
      "outputs": []
    },
    {
      "cell_type": "markdown",
      "source": [
        "2. Get the min and max of z"
      ],
      "metadata": {
        "id": "m-wHR7ajZlxG"
      }
    },
    {
      "cell_type": "code",
      "source": [
        "min()\n",
        "\n",
        "max()"
      ],
      "metadata": {
        "id": "wdOvaxZEY8i5"
      },
      "execution_count": null,
      "outputs": []
    },
    {
      "cell_type": "markdown",
      "source": [
        "3. Get the summary of matrix `mat`"
      ],
      "metadata": {
        "id": "w3h4G70uZoLj"
      }
    },
    {
      "cell_type": "code",
      "source": [
        "summary()"
      ],
      "metadata": {
        "id": "xOCgDxWlabUV"
      },
      "execution_count": null,
      "outputs": []
    },
    {
      "cell_type": "markdown",
      "source": [
        "4. Get the column mean and row mean of matrix `mat`"
      ],
      "metadata": {
        "id": "6k84A9Bua493"
      }
    },
    {
      "cell_type": "code",
      "source": [
        "row_means <- rowMeans()\n",
        "print(row_means)\n",
        "\n",
        "col_means <- colMeans()\n",
        "print(col_means)"
      ],
      "metadata": {
        "id": "jec-1QK-a8me"
      },
      "execution_count": null,
      "outputs": []
    },
    {
      "cell_type": "code",
      "source": [
        "5. Get the row variance and standard deviation (hint: 1 is for row and 2 is for column)"
      ],
      "metadata": {
        "id": "EkPZkPD0bGiV"
      },
      "execution_count": null,
      "outputs": []
    },
    {
      "cell_type": "code",
      "source": [
        "col_vars <- apply(mat, 2, var)\n",
        "print(col_vars)\n",
        "\n",
        "col_sds <- apply(mat, 2, sd)\n",
        "print(col_sds)"
      ],
      "metadata": {
        "id": "xCk4ELDhbAPq"
      },
      "execution_count": null,
      "outputs": []
    },
    {
      "cell_type": "code",
      "source": [
        "row_vars <- apply(mat, 1, var)\n",
        "print(row_vars)\n",
        "\n",
        "row_sds <- apply(mat, 1, sd)\n",
        "print(row_sds)"
      ],
      "metadata": {
        "id": "gZgBatn7bWjD"
      },
      "execution_count": null,
      "outputs": []
    },
    {
      "cell_type": "markdown",
      "source": [
        "6. Get the sum of column and row"
      ],
      "metadata": {
        "id": "ikYeTr5Vbewz"
      }
    },
    {
      "cell_type": "code",
      "source": [
        "col_sum <- colSums(mat)\n",
        "print(col_sum)\n",
        "\n",
        "row_sum <- rowSums(mat)\n",
        "print(row_sum)"
      ],
      "metadata": {
        "id": "eTYpaOGfceDY"
      },
      "execution_count": null,
      "outputs": []
    },
    {
      "cell_type": "markdown",
      "source": [
        "# Factor and string operation"
      ],
      "metadata": {
        "id": "cU6U6fXqdR-I"
      }
    },
    {
      "cell_type": "markdown",
      "source": [
        "1. Check the levels of `group`"
      ],
      "metadata": {
        "id": "rg1YJfHpef1T"
      }
    },
    {
      "cell_type": "code",
      "source": [
        "group <- factor(c(\"A\", \"B\", \"A\", \"A\", \"B\"))\n",
        "\n",
        "print(levels())"
      ],
      "metadata": {
        "id": "eU0JPafMeadU"
      },
      "execution_count": 15,
      "outputs": []
    },
    {
      "cell_type": "markdown",
      "source": [
        "2. Find length of each string in the vector `description`"
      ],
      "metadata": {
        "id": "GlLe0xdAe7iH"
      }
    },
    {
      "cell_type": "code",
      "source": [
        "description <- c(\"First row\", \"Second row\", \"Third row\", \"Fourth row\", \"Fifth row\")\n",
        "\n",
        "nchar(description)"
      ],
      "metadata": {
        "id": "2omK1iNLecLc"
      },
      "execution_count": 23,
      "outputs": []
    },
    {
      "cell_type": "markdown",
      "source": [
        "3. Find string that has `Third`"
      ],
      "metadata": {
        "id": "7aB1LivLgkJ1"
      }
    },
    {
      "cell_type": "code",
      "source": [
        "grepl(\"Third\", )"
      ],
      "metadata": {
        "id": "OSGOfwp5go1o"
      },
      "execution_count": null,
      "outputs": []
    },
    {
      "cell_type": "code",
      "source": [],
      "metadata": {
        "id": "jSChgkD_f-Vd"
      },
      "execution_count": null,
      "outputs": []
    }
  ]
}