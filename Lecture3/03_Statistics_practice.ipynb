{
  "nbformat": 4,
  "nbformat_minor": 0,
  "metadata": {
    "colab": {
      "provenance": [],
      "authorship_tag": "ABX9TyM+5dXCQq0sooGYpkskJ1iU",
      "include_colab_link": true
    },
    "kernelspec": {
      "name": "ir",
      "display_name": "R"
    },
    "language_info": {
      "name": "R"
    }
  },
  "cells": [
    {
      "cell_type": "markdown",
      "metadata": {
        "id": "view-in-github",
        "colab_type": "text"
      },
      "source": [
        "<a href=\"https://colab.research.google.com/github/luuloi/GWAS_Introduction_2023/blob/main/03_Statistics_practice.ipynb\" target=\"_parent\"><img src=\"https://colab.research.google.com/assets/colab-badge.svg\" alt=\"Open In Colab\"/></a>"
      ]
    },
    {
      "cell_type": "markdown",
      "source": [
        "# Data Understanding"
      ],
      "metadata": {
        "id": "MTHVr42_kZAs"
      }
    },
    {
      "cell_type": "markdown",
      "source": [
        "Given this data related to student performance with:\n",
        "* StudentID: An identifier for each student.\n",
        "* Gender: Categorical variable - Male or Female.\n",
        "* Math_Score: A score for Math out of 100.\n",
        "* Reading_Score: A score for Reading out of 100.\n",
        "* Lunch_Type: Type of lunch they usually have - Standard or Free/Red"
      ],
      "metadata": {
        "id": "Axas1VkAkhp7"
      }
    },
    {
      "cell_type": "code",
      "source": [
        "# Setting a seed for reproducibility\n",
        "set.seed(123)\n",
        "\n",
        "# Generating a sample dataframe\n",
        "sample_df <- data.frame(\n",
        "  StudentID = 1:100,\n",
        "  Gender = sample(c(\"Male\", \"Female\"), 100, replace = TRUE),\n",
        "  Math_Score = round(runif(100, 50, 100)),  # Random scores between 50 and 100\n",
        "  Reading_Score = round(runif(100, 50, 100)),  # Random scores between 50 and 100\n",
        "  Lunch_Type = sample(c(\"Standard\", \"Free/Reduced\"), 100, replace = TRUE)\n",
        ")"
      ],
      "metadata": {
        "colab": {
          "base_uri": "https://localhost:8080/",
          "height": 286
        },
        "id": "e5zfWuOukgd9",
        "outputId": "cbf10951-c6f1-4395-f519-c442291e5ce9"
      },
      "execution_count": 1,
      "outputs": [
        {
          "output_type": "display_data",
          "data": {
            "text/html": [
              "<table class=\"dataframe\">\n",
              "<caption>A data.frame: 6 × 5</caption>\n",
              "<thead>\n",
              "\t<tr><th></th><th scope=col>StudentID</th><th scope=col>Gender</th><th scope=col>Math_Score</th><th scope=col>Reading_Score</th><th scope=col>Lunch_Type</th></tr>\n",
              "\t<tr><th></th><th scope=col>&lt;int&gt;</th><th scope=col>&lt;chr&gt;</th><th scope=col>&lt;dbl&gt;</th><th scope=col>&lt;dbl&gt;</th><th scope=col>&lt;chr&gt;</th></tr>\n",
              "</thead>\n",
              "<tbody>\n",
              "\t<tr><th scope=row>1</th><td>1</td><td>Male  </td><td>80</td><td>62</td><td>Free/Reduced</td></tr>\n",
              "\t<tr><th scope=row>2</th><td>2</td><td>Male  </td><td>67</td><td>98</td><td>Free/Reduced</td></tr>\n",
              "\t<tr><th scope=row>3</th><td>3</td><td>Male  </td><td>74</td><td>80</td><td>Standard    </td></tr>\n",
              "\t<tr><th scope=row>4</th><td>4</td><td>Female</td><td>98</td><td>76</td><td>Free/Reduced</td></tr>\n",
              "\t<tr><th scope=row>5</th><td>5</td><td>Male  </td><td>74</td><td>70</td><td>Standard    </td></tr>\n",
              "\t<tr><th scope=row>6</th><td>6</td><td>Female</td><td>95</td><td>94</td><td>Standard    </td></tr>\n",
              "</tbody>\n",
              "</table>\n"
            ],
            "text/markdown": "\nA data.frame: 6 × 5\n\n| <!--/--> | StudentID &lt;int&gt; | Gender &lt;chr&gt; | Math_Score &lt;dbl&gt; | Reading_Score &lt;dbl&gt; | Lunch_Type &lt;chr&gt; |\n|---|---|---|---|---|---|\n| 1 | 1 | Male   | 80 | 62 | Free/Reduced |\n| 2 | 2 | Male   | 67 | 98 | Free/Reduced |\n| 3 | 3 | Male   | 74 | 80 | Standard     |\n| 4 | 4 | Female | 98 | 76 | Free/Reduced |\n| 5 | 5 | Male   | 74 | 70 | Standard     |\n| 6 | 6 | Female | 95 | 94 | Standard     |\n\n",
            "text/latex": "A data.frame: 6 × 5\n\\begin{tabular}{r|lllll}\n  & StudentID & Gender & Math\\_Score & Reading\\_Score & Lunch\\_Type\\\\\n  & <int> & <chr> & <dbl> & <dbl> & <chr>\\\\\n\\hline\n\t1 & 1 & Male   & 80 & 62 & Free/Reduced\\\\\n\t2 & 2 & Male   & 67 & 98 & Free/Reduced\\\\\n\t3 & 3 & Male   & 74 & 80 & Standard    \\\\\n\t4 & 4 & Female & 98 & 76 & Free/Reduced\\\\\n\t5 & 5 & Male   & 74 & 70 & Standard    \\\\\n\t6 & 6 & Female & 95 & 94 & Standard    \\\\\n\\end{tabular}\n",
            "text/plain": [
              "  StudentID Gender Math_Score Reading_Score Lunch_Type  \n",
              "1 1         Male   80         62            Free/Reduced\n",
              "2 2         Male   67         98            Free/Reduced\n",
              "3 3         Male   74         80            Standard    \n",
              "4 4         Female 98         76            Free/Reduced\n",
              "5 5         Male   74         70            Standard    \n",
              "6 6         Female 95         94            Standard    "
            ]
          },
          "metadata": {}
        }
      ]
    },
    {
      "cell_type": "markdown",
      "source": [
        "1. View the first few rows"
      ],
      "metadata": {
        "id": "T35Ay9YZkln0"
      }
    },
    {
      "cell_type": "code",
      "source": [
        "head()"
      ],
      "metadata": {
        "id": "HCI10rynlovS"
      },
      "execution_count": null,
      "outputs": []
    },
    {
      "cell_type": "markdown",
      "source": [
        "2. Summarize the data frame"
      ],
      "metadata": {
        "id": "MWM2Ee99lpcr"
      }
    },
    {
      "cell_type": "code",
      "source": [
        "summary()"
      ],
      "metadata": {
        "id": "PCjROYzZlt3Q"
      },
      "execution_count": null,
      "outputs": []
    },
    {
      "cell_type": "markdown",
      "source": [
        "3. Measures of Central Tendency\n",
        "* Mean: Represents the average.\n",
        "* Median: The middle value when data is arranged in ascending order.\n",
        "* Mode: Most frequently occurring value (Note: R doesn’t have a built-in mode function, but we can create one)."
      ],
      "metadata": {
        "id": "BC_fTeKAly7l"
      }
    },
    {
      "cell_type": "code",
      "source": [
        "# Get the mean of Reading_Score following the example of Math_Score\n",
        "mean_math <- mean(sample_df$Math_Score)\n",
        "mean_reading <- mean(sample_df$)\n",
        "\n",
        "# Get the median of Math_Score and Reading_Score\n",
        "median_math <- median(sample_df$)\n",
        "median_reading <- median(sample_df$)\n",
        "\n",
        "# Mode function\n",
        "getmode <- function(v) {\n",
        "   uniqv <- unique(v)\n",
        "   uniqv[which.max(tabulate(match(v, uniqv)))]\n",
        "}\n",
        "\n",
        "# Get the mode of Gender and Lunch_Type\n",
        "mode_gender <- getmode(sample_df$)\n",
        "mode_lunch <- getmode(sample_df$)"
      ],
      "metadata": {
        "id": "ibSkmFKamIHL"
      },
      "execution_count": null,
      "outputs": []
    },
    {
      "cell_type": "markdown",
      "source": [
        "2. Measures of Dispersion\n",
        "* Range: Difference between the maximum and minimum values.\n",
        "* Quartiles: Values that divide your data into quarters.\n",
        "* Interquartile Range (IQR): Range between the first and third quartile; it describes the middle 50% of values.\n",
        "* Variance: Measure of the data's spread.\n",
        "* Standard Deviation: Average distance between each data point and the mean."
      ],
      "metadata": {
        "id": "XHJCSHkCmiUX"
      }
    },
    {
      "cell_type": "code",
      "source": [
        "# Range of Math_Score and Reading_Score\n",
        "range_math <- range(sample_df$)\n",
        "range_reading <- range(sample_df$)\n",
        "\n",
        "# Quartiles of Math_Score and Reading_Score\n",
        "quartiles_math <- quantile(sample_df$)\n",
        "quartiles_reading <- quantile(sample_df$)\n",
        "\n",
        "# IQR of Math_Score and Reading_Score\n",
        "iqr_math <- IQR(sample_df$)\n",
        "iqr_reading <- IQR(sample_df$)\n",
        "\n",
        "# Variance of Math_Score and Reading_Score\n",
        "var_math <- var(sample_df$)\n",
        "var_reading <- var(sample_df$)\n",
        "\n",
        "# Standard Deviation of Math_Score and Reading_Score\n",
        "sd_math <- sd(sample_df$)\n",
        "sd_reading <- sd(sample_df$)"
      ],
      "metadata": {
        "id": "FRcw3Eqbmpb9"
      },
      "execution_count": null,
      "outputs": []
    },
    {
      "cell_type": "markdown",
      "source": [
        "3. Frequency Tables: To describe the frequency of categorical variables"
      ],
      "metadata": {
        "id": "GTobPJuAnOyc"
      }
    },
    {
      "cell_type": "code",
      "source": [
        "# Frequency tables for Gender and Lunch_Type\n",
        "gender_freq <- table(sample_df$Gender)\n",
        "lunch_freq <- table(sample_df$Lunch_Type)\n"
      ],
      "metadata": {
        "id": "_y44FVEhnFv_"
      },
      "execution_count": 4,
      "outputs": []
    },
    {
      "cell_type": "markdown",
      "source": [
        "# Visualization"
      ],
      "metadata": {
        "id": "nkuDz_RgnLv1"
      }
    },
    {
      "cell_type": "markdown",
      "source": [
        "Using the sampled dataset (sample_df), we will:\n",
        "1. Create a bar plot for the variable Math_Score to understand its distribution.\n",
        "2. Use ggplot2 to visualize relationships between the categorical variables Gender and Lunch_Type."
      ],
      "metadata": {
        "id": "aWyV2AgYnjsi"
      }
    },
    {
      "cell_type": "code",
      "source": [
        "# 1. Bar plot for Math_Score\n",
        "hist(sample_df$, breaks=20, main=\"Distribution of Math Scores\", xlab=\"Math Score\", col=\"lightgreen\", border=\"black\")"
      ],
      "metadata": {
        "id": "OqqiLacLnnSK"
      },
      "execution_count": null,
      "outputs": []
    },
    {
      "cell_type": "code",
      "source": [
        "# 2. Bar plot using ggplot2 for `Gender` and `Lunch_Type`\n",
        "library(ggplot2)\n",
        "ggplot(sample_df, aes(x=, fill=)) +\n",
        "  geom_bar(position=\"dodge\") +\n",
        "  theme_minimal() +\n",
        "  labs(title=\"Distribution of Gender by Lunch type\", y=\"Count\", x=\"Gender\", fill=\"Lunch Type\")"
      ],
      "metadata": {
        "id": "vwg-ZwFint9Z"
      },
      "execution_count": null,
      "outputs": []
    },
    {
      "cell_type": "markdown",
      "source": [
        "# Statistical Testing"
      ],
      "metadata": {
        "id": "u-rVhqMJnxqe"
      }
    },
    {
      "cell_type": "markdown",
      "source": [
        "Using the sampled dataset (sample_df), we will:\n",
        "1. Choose two categorical variables, in this case, Gender and Lunch_Type.\n",
        "2. Create a contingency table from the chosen variables.\n",
        "3. Perform both the Chi-square test and Fisher's Exact Test on this table and interpret the results."
      ],
      "metadata": {
        "id": "tBfH5sOin7Pv"
      }
    },
    {
      "cell_type": "code",
      "source": [
        "# 1. Create a contingency table for `Gender` and `Lunch_Type`\n",
        "cont_table <- table(sample_df$, sample_df$)\n",
        "\n",
        "# Display the contingency table\n",
        "print(cont_table)"
      ],
      "metadata": {
        "id": "HvcpzZ98n_UQ"
      },
      "execution_count": null,
      "outputs": []
    },
    {
      "cell_type": "code",
      "source": [
        "# 2. Perform Chi-square test\n",
        "chi_test_result <- chisq.test()\n",
        "print(chi_test_result)"
      ],
      "metadata": {
        "id": "DXHnZ_t7oGw7"
      },
      "execution_count": null,
      "outputs": []
    },
    {
      "cell_type": "code",
      "source": [
        "# 3. Perform Fisher's Exact Test (especially useful if any cell in the contingency table has value less than 5)\n",
        "fisher_test_result <- fisher.test()\n",
        "print(fisher_test_result)"
      ],
      "metadata": {
        "id": "amEI9_ILoKlC"
      },
      "execution_count": null,
      "outputs": []
    },
    {
      "cell_type": "markdown",
      "source": [
        "# Advanced Visualization"
      ],
      "metadata": {
        "id": "n4748B43oMj3"
      }
    },
    {
      "cell_type": "markdown",
      "source": [
        "Given this simulated GWAS data:"
      ],
      "metadata": {
        "id": "KRHWeHD4oYKb"
      }
    },
    {
      "cell_type": "code",
      "source": [
        "set.seed(123)\n",
        "simulated_gwas <- data.frame(\n",
        "  SNP = paste0(\"rs\", 1:10000),\n",
        "  CHR = sample(1:22, 10000, replace = TRUE),\n",
        "  BP = sample(1:1e8, 10000),\n",
        "  P = runif(10000, 0, 1)\n",
        ")"
      ],
      "metadata": {
        "id": "O6MWUv7YoXHw"
      },
      "execution_count": null,
      "outputs": []
    },
    {
      "cell_type": "markdown",
      "source": [
        "1. Create a Manhattan plot for this simulated data"
      ],
      "metadata": {
        "id": "puxHDJ9nocsr"
      }
    },
    {
      "cell_type": "code",
      "source": [
        "library(qqman)\n",
        "manhattan()"
      ],
      "metadata": {
        "id": "vwjcZ2Ldog5Y"
      },
      "execution_count": null,
      "outputs": []
    },
    {
      "cell_type": "markdown",
      "source": [
        "2. Highlight SNPs with p-values below 0.05"
      ],
      "metadata": {
        "id": "8mnA8h63omd4"
      }
    },
    {
      "cell_type": "code",
      "source": [
        "# Highlight SNPs with p-values below 0.05\n",
        "significant_snps <- subset(simulated_gwas, < 0.05)\n",
        "\n",
        "manhattan(simulated_gwas, highlight = significant_snps$)"
      ],
      "metadata": {
        "id": "qX9vK1JvoqrW"
      },
      "execution_count": null,
      "outputs": []
    }
  ]
}